{
 "cells": [
  {
   "cell_type": "code",
   "execution_count": 1,
   "metadata": {},
   "outputs": [],
   "source": [
    "import pandas as pd"
   ]
  },
  {
   "cell_type": "code",
   "execution_count": 2,
   "metadata": {},
   "outputs": [],
   "source": [
    "input_file = open(\"input.txt\", \"r\")\n",
    "list_of_entries = []\n",
    "line = input_file.readline()\n",
    "while line:\n",
    "    list_of_entries.append(str(line.rstrip('\\n')))\n",
    "    line = input_file.readline()\n",
    "input_file.close()"
   ]
  },
  {
   "cell_type": "code",
   "execution_count": 3,
   "metadata": {},
   "outputs": [],
   "source": [
    "df = pd.DataFrame()\n",
    "df['INPUT'] = list_of_entries"
   ]
  },
  {
   "cell_type": "code",
   "execution_count": 4,
   "metadata": {},
   "outputs": [],
   "source": [
    "def GetPasswordRequirements(row):\n",
    "    return row['INPUT'][:row['INPUT'].find(':')]\n",
    "\n",
    "def GetPassword(row):\n",
    "    return row['INPUT'][row['INPUT'].find(':')+2:]\n",
    "\n",
    "def GetPasswordRequirementPosition1(row):\n",
    "    return int(row['PASSWORD_REQUIREMENT'][:row['INPUT'].find('-')])\n",
    "\n",
    "def GetPasswordRequirementPosition2(row):\n",
    "    return int(row['PASSWORD_REQUIREMENT'][row['INPUT'].find('-')+1:row['INPUT'].find(' ')])\n",
    "\n",
    "def GetPasswordRequirementLetter(row):\n",
    "    return row['PASSWORD_REQUIREMENT'][-1:]\n",
    "\n",
    "def GetPasswordAtPosition(row,position):\n",
    "    if position == '1':\n",
    "        return row['PASSWORD'][row['PASSWORD_REQUIREMENT_POSITION_1']-1]\n",
    "    else:\n",
    "        return row['PASSWORD'][row['PASSWORD_REQUIREMENT_POSITION_2']-1]\n",
    "\n",
    "def IsPasswordAtPositionValid(row,position):\n",
    "    if position == '1':\n",
    "        return row['PASSWORD_REQUIREMENT_LETTER'] == row['PASSWORD_AT_POSITION_1']\n",
    "    else:\n",
    "        return row['PASSWORD_REQUIREMENT_LETTER'] == row['PASSWORD_AT_POSITION_2']\n",
    "        \n",
    "def GetPasswordRequirementMet(row):\n",
    "    if row['PASSWORD_AT_POSITION_1_VALID'] != row['PASSWORD_AT_POSITION_2_VALID']:\n",
    "        return True\n",
    "    else:\n",
    "        return False"
   ]
  },
  {
   "cell_type": "code",
   "execution_count": 5,
   "metadata": {},
   "outputs": [],
   "source": [
    "df['PASSWORD_REQUIREMENT'] = df.apply(GetPasswordRequirements,axis=1)\n",
    "df['PASSWORD'] = df.apply(GetPassword,axis=1)\n",
    "df['PASSWORD_REQUIREMENT_POSITION_1'] = df.apply(GetPasswordRequirementPosition1,axis=1)\n",
    "df['PASSWORD_REQUIREMENT_POSITION_2'] = df.apply(GetPasswordRequirementPosition2,axis=1)\n",
    "df['PASSWORD_REQUIREMENT_LETTER'] = df.apply(GetPasswordRequirementLetter,axis=1)\n",
    "df['PASSWORD_AT_POSITION_1'] = df.apply(GetPasswordAtPosition,args='1',axis=1)\n",
    "df['PASSWORD_AT_POSITION_2'] = df.apply(GetPasswordAtPosition,args='2',axis=1)\n",
    "df['PASSWORD_AT_POSITION_1_VALID'] = df.apply(IsPasswordAtPositionValid,args='1',axis=1)\n",
    "df['PASSWORD_AT_POSITION_2_VALID'] = df.apply(IsPasswordAtPositionValid,args='2',axis=1)\n",
    "df['PASSWORD_REQUIREMENT_MET'] = df.apply(GetPasswordRequirementMet,axis=1)"
   ]
  },
  {
   "cell_type": "code",
   "execution_count": 6,
   "metadata": {},
   "outputs": [
    {
     "name": "stdout",
     "output_type": "stream",
     "text": [
      "                          INPUT PASSWORD_REQUIREMENT            PASSWORD  \\\n",
      "1           1-6 g: ggvggbgggstg                1-6 g        ggvggbgggstg   \n",
      "2                  1-4 s: lssss                1-4 s               lssss   \n",
      "3    13-14 v: hvvcvvvvvvvvvsvvv              13-14 v   hvvcvvvvvvvvvsvvv   \n",
      "5                   3-4 t: stht                3-4 t                stht   \n",
      "6                 5-6 b: dbkbhb                5-6 b              dbkbhb   \n",
      "..                          ...                  ...                 ...   \n",
      "993            1-6 r: lrrvrrrrm                1-6 r           lrrvrrrrm   \n",
      "994  4-18 r: rrrdrrrrrrrrrkblrr               4-18 r  rrrdrrrrrrrrrkblrr   \n",
      "995              6-7 k: kkkkkkl                6-7 k             kkkkkkl   \n",
      "996        4-6 v: vmnfvvvvmcmlh                4-6 v       vmnfvvvvmcmlh   \n",
      "997        6-9 g: jgcgggkbbmgbs                6-9 g       jgcgggkbbmgbs   \n",
      "\n",
      "     PASSWORD_REQUIREMENT_POSITION_1  PASSWORD_REQUIREMENT_POSITION_2  \\\n",
      "1                                  1                                6   \n",
      "2                                  1                                4   \n",
      "3                                 13                               14   \n",
      "5                                  3                                4   \n",
      "6                                  5                                6   \n",
      "..                               ...                              ...   \n",
      "993                                1                                6   \n",
      "994                                4                               18   \n",
      "995                                6                                7   \n",
      "996                                4                                6   \n",
      "997                                6                                9   \n",
      "\n",
      "    PASSWORD_REQUIREMENT_LETTER PASSWORD_AT_POSITION_1 PASSWORD_AT_POSITION_2  \\\n",
      "1                             g                      g                      b   \n",
      "2                             s                      l                      s   \n",
      "3                             v                      v                      s   \n",
      "5                             t                      h                      t   \n",
      "6                             b                      h                      b   \n",
      "..                          ...                    ...                    ...   \n",
      "993                           r                      l                      r   \n",
      "994                           r                      d                      r   \n",
      "995                           k                      k                      l   \n",
      "996                           v                      f                      v   \n",
      "997                           g                      g                      b   \n",
      "\n",
      "     PASSWORD_AT_POSITION_1_VALID  PASSWORD_AT_POSITION_2_VALID  \\\n",
      "1                            True                         False   \n",
      "2                           False                          True   \n",
      "3                            True                         False   \n",
      "5                           False                          True   \n",
      "6                           False                          True   \n",
      "..                            ...                           ...   \n",
      "993                         False                          True   \n",
      "994                         False                          True   \n",
      "995                          True                         False   \n",
      "996                         False                          True   \n",
      "997                          True                         False   \n",
      "\n",
      "     PASSWORD_REQUIREMENT_MET  \n",
      "1                        True  \n",
      "2                        True  \n",
      "3                        True  \n",
      "5                        True  \n",
      "6                        True  \n",
      "..                        ...  \n",
      "993                      True  \n",
      "994                      True  \n",
      "995                      True  \n",
      "996                      True  \n",
      "997                      True  \n",
      "\n",
      "[649 rows x 11 columns]\n"
     ]
    }
   ],
   "source": [
    "print(df[df['PASSWORD_REQUIREMENT_MET'] == True])"
   ]
  }
 ],
 "metadata": {
  "kernelspec": {
   "display_name": "Python 3",
   "language": "python",
   "name": "python3"
  },
  "language_info": {
   "codemirror_mode": {
    "name": "ipython",
    "version": 3
   },
   "file_extension": ".py",
   "mimetype": "text/x-python",
   "name": "python",
   "nbconvert_exporter": "python",
   "pygments_lexer": "ipython3",
   "version": "3.8.5"
  }
 },
 "nbformat": 4,
 "nbformat_minor": 4
}
