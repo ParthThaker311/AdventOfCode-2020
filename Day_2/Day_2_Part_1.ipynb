{
 "cells": [
  {
   "cell_type": "code",
   "execution_count": 1,
   "metadata": {},
   "outputs": [],
   "source": [
    "import pandas as pd"
   ]
  },
  {
   "cell_type": "code",
   "execution_count": 2,
   "metadata": {},
   "outputs": [],
   "source": [
    "input_file = open(\"input.txt\", \"r\")\n",
    "list_of_entries = []\n",
    "line = input_file.readline()\n",
    "while line:\n",
    "    list_of_entries.append(str(line.rstrip('\\n')))\n",
    "    line = input_file.readline()\n",
    "input_file.close()"
   ]
  },
  {
   "cell_type": "code",
   "execution_count": 68,
   "metadata": {},
   "outputs": [],
   "source": [
    "df = pd.DataFrame()\n",
    "df['INPUT'] = list_of_entries"
   ]
  },
  {
   "cell_type": "code",
   "execution_count": 69,
   "metadata": {},
   "outputs": [],
   "source": [
    "def GetPasswordRequirements(row):\n",
    "    return row['INPUT'][:row['INPUT'].find(':')]\n",
    "\n",
    "def GetPassword(row):\n",
    "    return row['INPUT'][row['INPUT'].find(':')+2:]\n",
    "\n",
    "\n",
    "def GetPasswordRequirementMin(row):\n",
    "    return int(row['PASSWORD_REQUIREMENT'][:row['INPUT'].find('-')])\n",
    "\n",
    "def GetPasswordRequirementMax(row):\n",
    "    return int(row['PASSWORD_REQUIREMENT'][row['INPUT'].find('-')+1:row['INPUT'].find(' ')])\n",
    "\n",
    "def GetPasswordRequirementLetter(row):\n",
    "    return row['PASSWORD_REQUIREMENT'][-1:]\n",
    "\n",
    "def GetPasswordRequirementCount(row):\n",
    "    return row['PASSWORD'].count(row['PASSWORD_REQUIREMENT_LETTER'])\n",
    "\n",
    "def GetPasswordRequirementMet(row):\n",
    "    if row['PASSWORD_REQUIREMENT_COUNT'] >= row['PASSWORD_REQUIREMENT_MIN'] and row['PASSWORD_REQUIREMENT_COUNT'] <= row['PASSWORD_REQUIREMENT_MAX']:\n",
    "        return True\n",
    "    else:\n",
    "        return False"
   ]
  },
  {
   "cell_type": "code",
   "execution_count": 70,
   "metadata": {},
   "outputs": [],
   "source": [
    "df['PASSWORD_REQUIREMENT'] = df.apply(GetPasswordRequirements,axis=1)\n",
    "df['PASSWORD'] = df.apply(GetPassword,axis=1)\n",
    "df['PASSWORD_REQUIREMENT_MIN'] = df.apply(GetPasswordRequirementMin,axis=1)\n",
    "df['PASSWORD_REQUIREMENT_MAX'] = df.apply(GetPasswordRequirementMax,axis=1)\n",
    "df['PASSWORD_REQUIREMENT_LETTER'] = df.apply(GetPasswordRequirementLetter,axis=1)\n",
    "df['PASSWORD_REQUIREMENT_COUNT'] = df.apply(GetPasswordRequirementCount,axis=1)\n",
    "df['PASSWORD_REQUIREMENT_MET'] = df.apply(GetPasswordRequirementMet,axis=1)"
   ]
  },
  {
   "cell_type": "code",
   "execution_count": 71,
   "metadata": {},
   "outputs": [
    {
     "name": "stdout",
     "output_type": "stream",
     "text": [
      "                          INPUT PASSWORD_REQUIREMENT            PASSWORD  \\\n",
      "2                  1-4 s: lssss                1-4 s               lssss   \n",
      "3    13-14 v: hvvcvvvvvvvvvsvvv              13-14 v   hvvcvvvvvvvvvsvvv   \n",
      "4                  3-5 m: lcmmm                3-5 m               lcmmm   \n",
      "7               4-7 p: ppfppppq                4-7 p            ppfppppq   \n",
      "8                  4-5 j: jjjjj                4-5 j               jjjjj   \n",
      "..                          ...                  ...                 ...   \n",
      "993            1-6 r: lrrvrrrrm                1-6 r           lrrvrrrrm   \n",
      "994  4-18 r: rrrdrrrrrrrrrkblrr               4-18 r  rrrdrrrrrrrrrkblrr   \n",
      "995              6-7 k: kkkkkkl                6-7 k             kkkkkkl   \n",
      "996        4-6 v: vmnfvvvvmcmlh                4-6 v       vmnfvvvvmcmlh   \n",
      "999                 3-4 j: tjjj                3-4 j                tjjj   \n",
      "\n",
      "     PASSWORD_REQUIREMENT_MIN  PASSWORD_REQUIREMENT_MAX  \\\n",
      "2                           1                         4   \n",
      "3                          13                        14   \n",
      "4                           3                         5   \n",
      "7                           4                         7   \n",
      "8                           4                         5   \n",
      "..                        ...                       ...   \n",
      "993                         1                         6   \n",
      "994                         4                        18   \n",
      "995                         6                         7   \n",
      "996                         4                         6   \n",
      "999                         3                         4   \n",
      "\n",
      "    PASSWORD_REQUIREMENT_LETTER  PASSWORD_REQUIREMENT_COUNT  \\\n",
      "2                             s                           4   \n",
      "3                             v                          14   \n",
      "4                             m                           3   \n",
      "7                             p                           6   \n",
      "8                             j                           5   \n",
      "..                          ...                         ...   \n",
      "993                           r                           6   \n",
      "994                           r                          14   \n",
      "995                           k                           6   \n",
      "996                           v                           5   \n",
      "999                           j                           3   \n",
      "\n",
      "     PASSWORD_REQUIREMENT_MET  \n",
      "2                        True  \n",
      "3                        True  \n",
      "4                        True  \n",
      "7                        True  \n",
      "8                        True  \n",
      "..                        ...  \n",
      "993                      True  \n",
      "994                      True  \n",
      "995                      True  \n",
      "996                      True  \n",
      "999                      True  \n",
      "\n",
      "[454 rows x 8 columns]\n"
     ]
    }
   ],
   "source": [
    "print(df[df['PASSWORD_REQUIREMENT_MET'] == True])"
   ]
  },
  {
   "cell_type": "code",
   "execution_count": null,
   "metadata": {},
   "outputs": [],
   "source": []
  }
 ],
 "metadata": {
  "kernelspec": {
   "display_name": "Python 3",
   "language": "python",
   "name": "python3"
  },
  "language_info": {
   "codemirror_mode": {
    "name": "ipython",
    "version": 3
   },
   "file_extension": ".py",
   "mimetype": "text/x-python",
   "name": "python",
   "nbconvert_exporter": "python",
   "pygments_lexer": "ipython3",
   "version": "3.8.5"
  }
 },
 "nbformat": 4,
 "nbformat_minor": 4
}
