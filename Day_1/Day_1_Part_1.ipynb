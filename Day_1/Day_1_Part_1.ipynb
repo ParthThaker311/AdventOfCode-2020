{
 "cells": [
  {
   "cell_type": "code",
   "execution_count": 26,
   "metadata": {},
   "outputs": [],
   "source": [
    "import pandas as pd"
   ]
  },
  {
   "cell_type": "code",
   "execution_count": 27,
   "metadata": {},
   "outputs": [],
   "source": [
    "input_file = open(\"input.csv\", \"r\")\n",
    "list_of_entries = []\n",
    "line = input_file.readline()\n",
    "while line:\n",
    "    list_of_entries.append(int(line.rstrip('\\n')))\n",
    "    line = input_file.readline()\n",
    "list_of_entries.sort()\n"
   ]
  },
  {
   "cell_type": "code",
   "execution_count": 28,
   "metadata": {},
   "outputs": [],
   "source": [
    "frames = []\n",
    "for input_element in list_of_entries:\n",
    "    second_input = list_of_entries\n",
    "    current_df = pd.DataFrame()\n",
    "    current_df['SECOND_INPUT'] = second_input\n",
    "    current_df['FIRST_INPUT'] = input_element\n",
    "    frames.append(current_df)\n",
    "combined_df = pd.concat(frames)\n",
    "combined_df['ADDITION_RESULTS'] = combined_df['FIRST_INPUT'] + combined_df['SECOND_INPUT']\n",
    "combined_df['MULTIPLICATION_RESULTS'] = combined_df['FIRST_INPUT'] * combined_df['SECOND_INPUT']\n",
    "input_file.close()"
   ]
  },
  {
   "cell_type": "code",
   "execution_count": 30,
   "metadata": {},
   "outputs": [
    {
     "name": "stdout",
     "output_type": "stream",
     "text": [
      "    SECOND_INPUT  FIRST_INPUT  ADDITION_RESULTS  MULTIPLICATION_RESULTS\n",
      "42          1699          321              2020                  545379\n",
      "1            321         1699              2020                  545379\n"
     ]
    }
   ],
   "source": [
    "print(combined_df[combined_df['ADDITION_RESULTS'] == 2020])"
   ]
  },
  {
   "cell_type": "code",
   "execution_count": null,
   "metadata": {},
   "outputs": [],
   "source": []
  }
 ],
 "metadata": {
  "kernelspec": {
   "display_name": "Python 3",
   "language": "python",
   "name": "python3"
  },
  "language_info": {
   "codemirror_mode": {
    "name": "ipython",
    "version": 3
   },
   "file_extension": ".py",
   "mimetype": "text/x-python",
   "name": "python",
   "nbconvert_exporter": "python",
   "pygments_lexer": "ipython3",
   "version": "3.8.5"
  }
 },
 "nbformat": 4,
 "nbformat_minor": 4
}
