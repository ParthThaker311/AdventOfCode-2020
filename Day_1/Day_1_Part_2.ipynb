{
 "cells": [
  {
   "cell_type": "code",
   "execution_count": 1,
   "metadata": {},
   "outputs": [],
   "source": [
    "import pandas as pd"
   ]
  },
  {
   "cell_type": "code",
   "execution_count": 2,
   "metadata": {},
   "outputs": [],
   "source": [
    "input_file = open(\"input.csv\", \"r\")\n",
    "list_of_entries = []\n",
    "line = input_file.readline()\n",
    "while line:\n",
    "    list_of_entries.append(int(line.rstrip('\\n')))\n",
    "    line = input_file.readline()\n",
    "list_of_entries.sort()"
   ]
  },
  {
   "cell_type": "code",
   "execution_count": 5,
   "metadata": {},
   "outputs": [],
   "source": [
    "frames = []\n",
    "for input_element_one in list_of_entries:\n",
    "    for input_element_two in list_of_entries:\n",
    "        third_input = list_of_entries\n",
    "        current_df = pd.DataFrame()\n",
    "        current_df['THIRD_INPUT'] = third_input\n",
    "        current_df['SECOND_INPUT'] = input_element_two\n",
    "        current_df['FIRST_INPUT'] = input_element_one\n",
    "        frames.append(current_df)\n",
    "combined_df = pd.concat(frames)\n",
    "combined_df['ADDITION_RESULTS'] = combined_df['FIRST_INPUT'] + combined_df['SECOND_INPUT'] + combined_df['THIRD_INPUT']\n",
    "combined_df['MULTIPLICATION_RESULTS'] = combined_df['FIRST_INPUT'] * combined_df['SECOND_INPUT'] * combined_df['THIRD_INPUT']\n",
    "input_file.close()"
   ]
  },
  {
   "cell_type": "code",
   "execution_count": 6,
   "metadata": {},
   "outputs": [
    {
     "name": "stdout",
     "output_type": "stream",
     "text": [
      "    THIRD_INPUT  SECOND_INPUT  FIRST_INPUT  ADDITION_RESULTS  \\\n",
      "11          973           619          428              2020   \n",
      "5           619           973          428              2020   \n",
      "11          973           428          619              2020   \n",
      "4           428           973          619              2020   \n",
      "5           619           428          973              2020   \n",
      "4           428           619          973              2020   \n",
      "\n",
      "    MULTIPLICATION_RESULTS  \n",
      "11               257778836  \n",
      "5                257778836  \n",
      "11               257778836  \n",
      "4                257778836  \n",
      "5                257778836  \n",
      "4                257778836  \n"
     ]
    }
   ],
   "source": [
    "print(combined_df[combined_df['ADDITION_RESULTS'] == 2020])"
   ]
  },
  {
   "cell_type": "code",
   "execution_count": null,
   "metadata": {},
   "outputs": [],
   "source": []
  }
 ],
 "metadata": {
  "kernelspec": {
   "display_name": "Python 3",
   "language": "python",
   "name": "python3"
  },
  "language_info": {
   "codemirror_mode": {
    "name": "ipython",
    "version": 3
   },
   "file_extension": ".py",
   "mimetype": "text/x-python",
   "name": "python",
   "nbconvert_exporter": "python",
   "pygments_lexer": "ipython3",
   "version": "3.8.5"
  }
 },
 "nbformat": 4,
 "nbformat_minor": 4
}
